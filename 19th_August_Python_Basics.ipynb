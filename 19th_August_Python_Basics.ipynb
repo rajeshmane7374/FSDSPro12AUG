{
 "cells": [
  {
   "cell_type": "markdown",
   "id": "9be1e3b2",
   "metadata": {},
   "source": [
    "**1. Declare two variables, `x` and `y`, and assign them integer values.\n",
    "Swap the values of these variables without using any temporary\n",
    "variable.**"
   ]
  },
  {
   "cell_type": "code",
   "execution_count": 15,
   "id": "a11ab9b7",
   "metadata": {},
   "outputs": [],
   "source": [
    "#swapping the varlaible value\n",
    "a=25\n",
    "b=35"
   ]
  },
  {
   "cell_type": "code",
   "execution_count": 16,
   "id": "357f96cf",
   "metadata": {},
   "outputs": [],
   "source": [
    "a, b = b, a"
   ]
  },
  {
   "cell_type": "code",
   "execution_count": 17,
   "id": "841bed55",
   "metadata": {},
   "outputs": [
    {
     "name": "stdout",
     "output_type": "stream",
     "text": [
      "a = 35\n",
      "b = 25\n"
     ]
    }
   ],
   "source": [
    "print(\"a =\", a)\n",
    "print(\"b =\", b)"
   ]
  },
  {
   "cell_type": "markdown",
   "id": "dd4bd68a",
   "metadata": {},
   "source": [
    "**2. Create a program that calculates the area of a rectangle. Take the\n",
    "length and width as inputs from the user and store them in variables.\n",
    "Calculate and display the area.**"
   ]
  },
  {
   "cell_type": "code",
   "execution_count": 18,
   "id": "65b12d1a",
   "metadata": {},
   "outputs": [
    {
     "name": "stdout",
     "output_type": "stream",
     "text": [
      "Length of Rectangle: 15\n",
      "Width of Rectangle: 20\n",
      "Area of Rectangle:  300\n"
     ]
    }
   ],
   "source": [
    "a = int(input(\"Length of Rectangle: \"))\n",
    "b = int(input(\"Width of Rectangle: \"))\n",
    "\n",
    "print('Area of Rectangle: ', a*b)"
   ]
  },
  {
   "cell_type": "markdown",
   "id": "2a300460",
   "metadata": {},
   "source": [
    "**3. Write a Python program that converts temperature from Celsius to\n",
    "Fahrenheit. Take the temperature in Celsius as input, store it in a\n",
    "variable, convert it to Fahrenheit, and display the result.**\n",
    "\n",
    "Temperature conversions use the following formulas:\n",
    "1. Temperature in degrees Fahrenheit (°F) = (Temperature in degrees Celsius (°C) * 9/5) + 32.\n",
    "2. Temperature in degrees Celsius (°C) = (Temperature in degrees Fahrenheit (°F) - 32) * 5/9.\n",
    "\n",
    "celsius = int(input(\"Enter the Temperature in Celsius :\\n\"))\n",
    "fahrenheit = (1.8 * celsius) + 32.\n",
    "print(\"Temperature in Fahrenheit :\", fahrenheit)\n",
    "\n",
    "\n"
   ]
  },
  {
   "cell_type": "code",
   "execution_count": 20,
   "id": "26b00514",
   "metadata": {},
   "outputs": [
    {
     "name": "stdout",
     "output_type": "stream",
     "text": [
      "Enter the Temperature in Celsius (°C) :35\n",
      "Temperature in degrees Fahrenheit (°F) : 95.0\n"
     ]
    }
   ],
   "source": [
    "celsius = int(input(\"Enter the Temperature in Celsius (°C) :\"))\n",
    "fahrenheit = (9/5 * celsius) + 32. \n",
    "print(\"Temperature in degrees Fahrenheit (°F) :\", fahrenheit)"
   ]
  },
  {
   "cell_type": "markdown",
   "id": "1cb28a8c",
   "metadata": {},
   "source": [
    "## String Based Questions ##\n"
   ]
  },
  {
   "cell_type": "markdown",
   "id": "fd78a874",
   "metadata": {},
   "source": [
    "**1. Write a Python program that takes a string as input and prints the\n",
    "length of the string.**"
   ]
  },
  {
   "cell_type": "code",
   "execution_count": 1,
   "id": "d703c93e",
   "metadata": {},
   "outputs": [],
   "source": [
    "A = \"Temperature in degrees Fahrenheit (°F) :\""
   ]
  },
  {
   "cell_type": "code",
   "execution_count": 2,
   "id": "11c5e490",
   "metadata": {},
   "outputs": [
    {
     "name": "stdout",
     "output_type": "stream",
     "text": [
      "40\n"
     ]
    }
   ],
   "source": [
    "print(len(A))"
   ]
  },
  {
   "cell_type": "markdown",
   "id": "a4f16814",
   "metadata": {},
   "source": [
    "**2. Create a program that takes a sentence from the user and counts the\n",
    "number of vowels (a, e, i, o, u) in the string.**"
   ]
  },
  {
   "cell_type": "code",
   "execution_count": 9,
   "id": "28e0432b",
   "metadata": {},
   "outputs": [
    {
     "name": "stdout",
     "output_type": "stream",
     "text": [
      "Enter your Statment: Temperature in degrees Fahrenheit (°F)\n"
     ]
    }
   ],
   "source": [
    "X = input('Enter your Statment: ')\n",
    "vowels = \"a,e,i,o,u\""
   ]
  },
  {
   "cell_type": "code",
   "execution_count": 10,
   "id": "a3fd1e3f",
   "metadata": {},
   "outputs": [
    {
     "name": "stdout",
     "output_type": "stream",
     "text": [
      "Count of vowels in statement:  13\n"
     ]
    }
   ],
   "source": [
    "Count = sum(X.count(vowel) for vowel in vowels)\n",
    "print(\"Count of vowels in statement: \", Count)"
   ]
  },
  {
   "cell_type": "markdown",
   "id": "769d01b8",
   "metadata": {},
   "source": [
    "**3. Given a string, reverse the order of characters using string slicing and\n",
    "print the reversed string.**"
   ]
  },
  {
   "cell_type": "code",
   "execution_count": 1,
   "id": "690b6e6e",
   "metadata": {},
   "outputs": [],
   "source": [
    "x = 'Count of vowels in statement'"
   ]
  },
  {
   "cell_type": "code",
   "execution_count": 3,
   "id": "6d33382a",
   "metadata": {},
   "outputs": [
    {
     "name": "stdout",
     "output_type": "stream",
     "text": [
      "tnemetats ni slewov fo tnuoC\n"
     ]
    }
   ],
   "source": [
    "print(x[::-1])"
   ]
  },
  {
   "cell_type": "markdown",
   "id": "b0e77367",
   "metadata": {},
   "source": [
    "**4. Write a program that takes a string as input and checks if it is a\n",
    "palindrome (reads the same forwards and backwards).**"
   ]
  },
  {
   "cell_type": "code",
   "execution_count": 4,
   "id": "449f6e2c",
   "metadata": {},
   "outputs": [
    {
     "name": "stdout",
     "output_type": "stream",
     "text": [
      "Enter your palindrome Word: madam\n",
      "madam\n"
     ]
    }
   ],
   "source": [
    "B = input('Enter your palindrome Word: ')\n",
    "print(B[::-1])"
   ]
  },
  {
   "cell_type": "markdown",
   "id": "e7aa9d08",
   "metadata": {},
   "source": [
    "**5. Create a program that takes a string as input and removes all the\n",
    "spaces from it. Print the modified string without spaces.**"
   ]
  },
  {
   "cell_type": "code",
   "execution_count": 19,
   "id": "1e101eb9",
   "metadata": {},
   "outputs": [
    {
     "name": "stdout",
     "output_type": "stream",
     "text": [
      "Enter Strings with Space Here: M A S T ER\n",
      "Strings without Space:  MASTER\n"
     ]
    }
   ],
   "source": [
    "C = input(\"Enter Strings with Space Here: \")\n",
    "print(\"Strings without Space: \", C.replace(' ',''))"
   ]
  },
  {
   "cell_type": "code",
   "execution_count": null,
   "id": "96fa3e8f",
   "metadata": {},
   "outputs": [],
   "source": []
  },
  {
   "cell_type": "code",
   "execution_count": null,
   "id": "fcbe4dea",
   "metadata": {},
   "outputs": [],
   "source": []
  }
 ],
 "metadata": {
  "kernelspec": {
   "display_name": "Python 3",
   "language": "python",
   "name": "python3"
  },
  "language_info": {
   "codemirror_mode": {
    "name": "ipython",
    "version": 3
   },
   "file_extension": ".py",
   "mimetype": "text/x-python",
   "name": "python",
   "nbconvert_exporter": "python",
   "pygments_lexer": "ipython3",
   "version": "3.8.8"
  }
 },
 "nbformat": 4,
 "nbformat_minor": 5
}
